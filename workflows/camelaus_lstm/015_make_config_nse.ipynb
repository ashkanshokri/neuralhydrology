{
 "cells": [
  {
   "cell_type": "code",
   "execution_count": 9,
   "metadata": {},
   "outputs": [],
   "source": [
    "# common_functions.py\n",
    "from pathlib import Path\n",
    "from helpers import generate_configs\n",
    "\n",
    "\n",
    "# common configs\n",
    "base_path = Path('/Users/sho108/Desktop/r/work/sho108/neuralhydrology_workflow/configs_nse')\n",
    "config_file = Path('config.yml')\n",
    "static_predictors = ['PmePetHpdLpd']\n",
    "dynamic_predictors = ['PrsEts']\n",
    "p1 = (\"01/01/1981\", \"31/12/1995\")\n",
    "p2 = (\"01/01/2000\", \"31/12/2014\")\n",
    "\n",
    "# temporal twofold\n",
    "date_ranges = {\n",
    "    'train': {0: p1, 1: p2},\n",
    "    'validation': {0: p2, 1: p1},\n",
    "    'test': {0: p2, 1: p1},\n",
    "}\n",
    "\n",
    "basin_files = {'train' : {fold: f'basins/basins.txt' for fold in [0,1]},\n",
    "'validation' : {fold: f'basins/basins.txt' for fold in [0,1]},\n",
    "'test' : {fold: f'basins/basins.txt' for fold in [0,1]}}\n",
    "\n",
    "other_configs = {'loss':'NSE'}\n",
    "\n",
    "generate_configs(config_file,\n",
    "                static_predictors,\n",
    "                dynamic_predictors,\n",
    "                output_dir = base_path / 'temporal_split/2foldsplit',\n",
    "                date_ranges=date_ranges,\n",
    "                basin_files=basin_files,\n",
    "                other_configs=other_configs,\n",
    "                prefix='temporal_split')\n",
    "\n",
    "\n"
   ]
  },
  {
   "cell_type": "code",
   "execution_count": 10,
   "metadata": {},
   "outputs": [],
   "source": [
    "#spatial twofold\n",
    "for folds in [2, 10, 37]:\n",
    "    basin_dir = f'basins/{folds}foldsplit'\n",
    "\n",
    "    basin_files = {'train' : {fold: f'{basin_dir}/fold_{fold}_train.txt' for fold in range(folds)},\n",
    "    'validation' : {fold: f'{basin_dir}/fold_{fold}_test.txt' for fold in range(folds)},\n",
    "    'test' : {fold: f'{basin_dir}/fold_{fold}_test.txt' for fold in range(folds)}}\n",
    "\n",
    "    generate_configs(config_file,\n",
    "                    static_predictors,\n",
    "                    dynamic_predictors,\n",
    "                    output_dir = base_path / f'spatial_split/{folds}foldsplit',\n",
    "                    basin_files=basin_files,\n",
    "                    other_configs=other_configs,\n",
    "                    prefix=f'spatial_{folds}foldsplit',\n",
    "                    folds=folds)\n",
    "\n"
   ]
  },
  {
   "cell_type": "code",
   "execution_count": null,
   "metadata": {},
   "outputs": [],
   "source": []
  }
 ],
 "metadata": {
  "kernelspec": {
   "display_name": ".venv",
   "language": "python",
   "name": "python3"
  },
  "language_info": {
   "codemirror_mode": {
    "name": "ipython",
    "version": 3
   },
   "file_extension": ".py",
   "mimetype": "text/x-python",
   "name": "python",
   "nbconvert_exporter": "python",
   "pygments_lexer": "ipython3",
   "version": "3.10.12"
  },
  "orig_nbformat": 4
 },
 "nbformat": 4,
 "nbformat_minor": 2
}
