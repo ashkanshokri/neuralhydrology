{
 "cells": [
  {
   "cell_type": "code",
   "execution_count": 1,
   "metadata": {},
   "outputs": [],
   "source": [
    "from neuralhydrology.utils.split_basins import k_fold_split_basins\n",
    "from pathlib import Path\n",
    "\n",
    "input_file = 'basins.txt'\n",
    "bp = Path('/Users/sho108/Desktop/r/work/sho108/neuralhydrology_workflow')\n",
    "output_directory = bp / 'basins/twofoldsplit'\n",
    "k_fold_split_basins(input_file, output_directory, 2)"
   ]
  },
  {
   "cell_type": "code",
   "execution_count": null,
   "metadata": {},
   "outputs": [],
   "source": []
  }
 ],
 "metadata": {
  "kernelspec": {
   "display_name": ".venv",
   "language": "python",
   "name": "python3"
  },
  "language_info": {
   "codemirror_mode": {
    "name": "ipython",
    "version": 3
   },
   "file_extension": ".py",
   "mimetype": "text/x-python",
   "name": "python",
   "nbconvert_exporter": "python",
   "pygments_lexer": "ipython3",
   "version": "3.10.12"
  },
  "orig_nbformat": 4
 },
 "nbformat": 4,
 "nbformat_minor": 2
}
