{
 "cells": [
  {
   "cell_type": "code",
   "execution_count": 2,
   "metadata": {},
   "outputs": [],
   "source": [
    "%load_ext autoreload\n",
    "%autoreload 2"
   ]
  },
  {
   "cell_type": "code",
   "execution_count": 3,
   "metadata": {},
   "outputs": [],
   "source": [
    "from neuralhydrology.nh_run import start_run, eval_run, continue_run\n",
    "from pathlib import Path\n",
    "import torch\n",
    "from neuralhydrology.utils.file_system_operation import get_latest_touched_directory\n",
    "from neuralhydrology.training.train import start_training\n",
    "from neuralhydrology.utils.config import Config\n",
    "\n",
    "def get_predictor_list(s):\n",
    "    perdictor_dict = {\n",
    "    'p' : [\"precipitation_AWAP\"],\n",
    "    'e' : [\"et_morton_point_SILO\"],\n",
    "    'pe': [\"precipitation_AWAP\", \"et_morton_point_SILO\"]\n",
    "    }\n",
    "    return perdictor_dict[s]"
   ]
  },
  {
   "cell_type": "code",
   "execution_count": 6,
   "metadata": {},
   "outputs": [],
   "source": [
    "from pathlib import Path\n",
    "import torch\n",
    "\n",
    "def train_and_evaluate(fold, predictors, config_file, cold_run=True):\n",
    "    # Set up configuration\n",
    "    cfg = Config(config_file)\n",
    "    cfg.update_config({\n",
    "        'dynamic_inputs': get_predictor_list(predictors),\n",
    "        'train_basin_file': f'basins/twofoldsplit/fold_{fold}_train.txt',\n",
    "        'test_basin_file': f'basins/twofoldsplit/fold_{fold}_test.txt',\n",
    "        'validation_basin_file': f'basins/twofoldsplit/fold_{fold}_test.txt',\n",
    "        'experiment_name': f'spatial_twofold_{fold}_{predictors}',\n",
    "    })\n",
    "\n",
    "    # Set device\n",
    "    cfg.device = f\"cuda:0\" if torch.cuda.is_available() else \"cpu\"\n",
    "\n",
    "    p = Path('configs/petrichore/spatial_split/twofold')\n",
    "    p.mkdir(exist_ok=True, parents=True)\n",
    "    cfg.dump_config(folder=p, filename=f'{cfg.experiment_name}.yml')\n",
    "    if not cold_run:\n",
    "        # Start training\n",
    "        start_training(cfg)\n",
    "\n",
    "        # Get the latest run directory\n",
    "        run_dir = get_latest_touched_directory('runs')\n",
    "\n",
    "        # Evaluate on test set\n",
    "        ote = eval_run(run_dir=run_dir, period='test')\n",
    "\n",
    "        # Evaluate on validation set\n",
    "        ova = eval_run(run_dir=run_dir, period='validation')\n",
    "\n",
    "        # Evaluate on train set\n",
    "        otr = eval_run(run_dir=run_dir, period='train')\n",
    "\n",
    "        return ote, ova, otr\n",
    "\n",
    "\n",
    "config_file = Path('configs/config.yml')\n",
    "\n",
    "\n",
    "for predictors in ['p', 'pe', 'e']:\n",
    "    for fold in [0, 1]:\n",
    "        _ = train_and_evaluate(fold, predictors, config_file)\n"
   ]
  },
  {
   "cell_type": "code",
   "execution_count": null,
   "metadata": {},
   "outputs": [],
   "source": []
  }
 ],
 "metadata": {
  "kernelspec": {
   "display_name": ".venv",
   "language": "python",
   "name": "python3"
  },
  "language_info": {
   "codemirror_mode": {
    "name": "ipython",
    "version": 3
   },
   "file_extension": ".py",
   "mimetype": "text/x-python",
   "name": "python",
   "nbconvert_exporter": "python",
   "pygments_lexer": "ipython3",
   "version": "3.10.12"
  },
  "orig_nbformat": 4
 },
 "nbformat": 4,
 "nbformat_minor": 2
}
