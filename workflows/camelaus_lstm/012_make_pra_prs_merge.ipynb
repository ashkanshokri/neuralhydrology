{
 "cells": [
  {
   "cell_type": "code",
   "execution_count": 3,
   "metadata": {},
   "outputs": [],
   "source": [
    "# common_functions.py\n",
    "from pathlib import Path\n",
    "from helpers import generate_configs\n",
    "\n",
    "\n",
    "# common configs\n",
    "base_path = Path('/Users/sho108/Desktop/r/work/sho108/neuralhydrology_workflow/configs/combined_rainfalls')\n",
    "config_file = Path('config.yml')\n",
    "\n",
    "# temporal twofold\n",
    "date_ranges = {\n",
    "    'train': {0: (\"01/01/1981\", \"31/12/1997\"), 1: (\"01/01/2000\", \"31/12/2014\")},\n",
    "    'validation': {0: (\"01/01/2000\", \"31/12/2014\"), 1: (\"01/01/1981\", \"31/12/1997\")},\n",
    "    'test': {0: (\"01/01/2000\", \"31/12/2014\"), 1: (\"01/01/1981\", \"31/12/1997\")},\n",
    "}\n",
    "\n",
    "basin_files = {'train' : {fold: f'basins/basins.txt' for fold in [0,1]},\n",
    "'validation' : {fold: f'basins/basins.txt' for fold in [0,1]},\n",
    "'test' : {fold: f'basins/basins.txt' for fold in [0,1]}}\n",
    "\n",
    "\n",
    "generate_configs(config_file,\n",
    "                [''],\n",
    "                ['PraPrs'],\n",
    "                output_dir = base_path / 'temporal_split/twofold',\n",
    "                date_ranges=date_ranges,\n",
    "                basin_files=basin_files,\n",
    "                prefix='temporal_twofold_combined_rainfalls')\n",
    "\n",
    "\n",
    "\n",
    "#spatial twofold\n",
    "basin_files = {'train' : {fold: f'basins/twofoldsplit/fold_{fold}_train.txt' for fold in [0,1]},\n",
    "'validation' : {fold: f'basins/twofoldsplit/fold_{fold}_test.txt' for fold in [0,1]},\n",
    "'test' : {fold: f'basins/twofoldsplit/fold_{fold}_test.txt' for fold in [0,1]}}\n",
    "generate_configs(config_file,\n",
    "                [''],\n",
    "                ['PraPrs'],\n",
    "                output_dir = base_path / 'temporal_split/twofold',\n",
    "                basin_files=basin_files,\n",
    "                prefix='spatial_twofold_combined_rainfalls')\n"
   ]
  },
  {
   "cell_type": "code",
   "execution_count": null,
   "metadata": {},
   "outputs": [],
   "source": []
  }
 ],
 "metadata": {
  "kernelspec": {
   "display_name": ".venv",
   "language": "python",
   "name": "python3"
  },
  "language_info": {
   "codemirror_mode": {
    "name": "ipython",
    "version": 3
   },
   "file_extension": ".py",
   "mimetype": "text/x-python",
   "name": "python",
   "nbconvert_exporter": "python",
   "pygments_lexer": "ipython3",
   "version": "3.10.12"
  },
  "orig_nbformat": 4
 },
 "nbformat": 4,
 "nbformat_minor": 2
}
