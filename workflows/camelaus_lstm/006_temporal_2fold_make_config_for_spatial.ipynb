{
 "cells": [
  {
   "cell_type": "code",
   "execution_count": 1,
   "metadata": {},
   "outputs": [],
   "source": [
    "from pathlib import Path\n",
    "\n",
    "from neuralhydrology.utils.config import Config\n",
    "\n",
    "from helpers import get_predictor_list\n",
    "\n",
    "def create_date_range_train(fold: int):\n",
    "    if fold == 0:\n",
    "        return \"01/01/1981\", \"31/12/1999\"\n",
    "    elif fold == 1:\n",
    "        return \"01/01/2000\", \"31/12/2018\"\n",
    "    \n",
    "def create_date_range_test(fold: int):\n",
    "    if fold == 1:\n",
    "        return \"01/01/1981\", \"31/12/1999\"\n",
    "    elif fold == 0:\n",
    "        return \"01/01/2000\", \"31/12/2018\"    \n",
    "\n",
    "def main():\n",
    "    base_path = Path('/Users/sho108/Desktop/r/work/sho108/neuralhydrology_workflow')\n",
    "    output_dir = base_path / 'configs/temporal_split/twofold'\n",
    "    output_dir.mkdir(exist_ok=True, parents=True)\n",
    "    config_file = Path('config.yml')\n",
    "\n",
    "    for predictors in ['Pra', 'Prs', 'PrsEts', 'PrsEas']:\n",
    "        for fold in [0, 1]:\n",
    "            cfg = Config(config_file)\n",
    "            train_start_date, train_end_date = create_date_range_train(fold)\n",
    "            validation_start_date, validation_end_date = create_date_range_test(fold)\n",
    "            test_start_date, test_end_date = create_date_range_test(fold)\n",
    "\n",
    "            cfg.update_config({\n",
    "                'dynamic_inputs': get_predictor_list(predictors),\n",
    "                'train_basin_file': 'basins/basins.txt',\n",
    "                'test_basin_file': 'basins/basins.txt',\n",
    "                'validation_basin_file': 'basins/basins.txt',\n",
    "                'experiment_name': f'temporal_twofold_{fold}_{predictors}',\n",
    "                'train_start_date': train_start_date,\n",
    "                'train_end_date': train_end_date,\n",
    "                'validation_start_date': validation_start_date,\n",
    "                'validation_end_date': validation_end_date,\n",
    "                'test_start_date': test_start_date,\n",
    "                'test_end_date': test_end_date,\n",
    "            })\n",
    "\n",
    "            # Start training\n",
    "            cfg.dump_config(output_dir, cfg.experiment_name + '.yml')\n",
    "\n",
    "if __name__ == \"__main__\":\n",
    "    main()\n"
   ]
  },
  {
   "cell_type": "code",
   "execution_count": null,
   "metadata": {},
   "outputs": [],
   "source": []
  }
 ],
 "metadata": {
  "kernelspec": {
   "display_name": ".venv",
   "language": "python",
   "name": "python3"
  },
  "language_info": {
   "codemirror_mode": {
    "name": "ipython",
    "version": 3
   },
   "file_extension": ".py",
   "mimetype": "text/x-python",
   "name": "python",
   "nbconvert_exporter": "python",
   "pygments_lexer": "ipython3",
   "version": "3.10.12"
  },
  "orig_nbformat": 4
 },
 "nbformat": 4,
 "nbformat_minor": 2
}
