{
 "cells": [
  {
   "cell_type": "code",
   "execution_count": 2,
   "metadata": {},
   "outputs": [
    {
     "name": "stdout",
     "output_type": "stream",
     "text": [
      "/Users/sho108/Desktop/r/work/sho108/neuralhydrology_workflow/runs/temporal_twofold_0_PrsEts_3001_172823\n",
      "Loading cached data for test from /Users/sho108/Desktop/r/work/sho108/neuralhydrology_workflow/runs/temporal_twofold_0_PrsEts_3001_172823/postprocess/test_cached_data.pkl\n",
      "/Users/sho108/Desktop/r/work/sho108/neuralhydrology_workflow/runs/temporal_twofold_1_Pra_3001_172823\n",
      "Loading cached data for test from /Users/sho108/Desktop/r/work/sho108/neuralhydrology_workflow/runs/temporal_twofold_1_Pra_3001_172823/postprocess/test_cached_data.pkl\n",
      "/Users/sho108/Desktop/r/work/sho108/neuralhydrology_workflow/runs/temporal_twofold_0_Prs_3001_172823\n",
      "Loading cached data for test from /Users/sho108/Desktop/r/work/sho108/neuralhydrology_workflow/runs/temporal_twofold_0_Prs_3001_172823/postprocess/test_cached_data.pkl\n",
      "/Users/sho108/Desktop/r/work/sho108/neuralhydrology_workflow/runs/spatial_twofold_0_Pra_3001_172823\n",
      "Loading cached data for test from /Users/sho108/Desktop/r/work/sho108/neuralhydrology_workflow/runs/spatial_twofold_0_Pra_3001_172823/postprocess/test_cached_data.pkl\n",
      "/Users/sho108/Desktop/r/work/sho108/neuralhydrology_workflow/runs/temporal_twofold_0_Pra_3001_172823\n",
      "Loading cached data for test from /Users/sho108/Desktop/r/work/sho108/neuralhydrology_workflow/runs/temporal_twofold_0_Pra_3001_172823/postprocess/test_cached_data.pkl\n",
      "/Users/sho108/Desktop/r/work/sho108/neuralhydrology_workflow/runs/spatial_twofold_0_PrsEas_3001_172823\n",
      "Loading cached data for test from /Users/sho108/Desktop/r/work/sho108/neuralhydrology_workflow/runs/spatial_twofold_0_PrsEas_3001_172823/postprocess/test_cached_data.pkl\n",
      "/Users/sho108/Desktop/r/work/sho108/neuralhydrology_workflow/runs/temporal_twofold_0_PrsEas_3001_172823\n",
      "Loading cached data for test from /Users/sho108/Desktop/r/work/sho108/neuralhydrology_workflow/runs/temporal_twofold_0_PrsEas_3001_172823/postprocess/test_cached_data.pkl\n",
      "/Users/sho108/Desktop/r/work/sho108/neuralhydrology_workflow/runs/temporal_twofold_1_Prs_3001_172823\n",
      "Loading cached data for test from /Users/sho108/Desktop/r/work/sho108/neuralhydrology_workflow/runs/temporal_twofold_1_Prs_3001_172823/postprocess/test_cached_data.pkl\n",
      "/Users/sho108/Desktop/r/work/sho108/neuralhydrology_workflow/runs/temporal_twofold_1_PrsEas_3001_172823\n",
      "Cached data for test not found or recalculation forced. Generating and saving...\n",
      "# Evaluation: 100%|██████████| 222/222 [21:28<00:00,  5.80s/it]\n",
      "/Users/sho108/Desktop/r/work/sho108/neuralhydrology_workflow/runs/temporal_twofold_1_PrsEts_3001_172823\n",
      "Cached data for test not found or recalculation forced. Generating and saving...\n",
      "# Evaluation: 100%|██████████| 222/222 [22:12<00:00,  6.00s/it]\n",
      "/Users/sho108/Desktop/r/work/sho108/neuralhydrology_workflow/runs/spatial_twofold_0_PrsEts_3001_172823\n",
      "Cached data for test not found or recalculation forced. Generating and saving...\n",
      "# Evaluation: 100%|██████████| 111/111 [15:34<00:00,  8.42s/it]\n",
      "/Users/sho108/Desktop/r/work/sho108/neuralhydrology_workflow/runs/spatial_twofold_1_Prs_3001_172823\n",
      "Cached data for test not found or recalculation forced. Generating and saving...\n",
      "# Evaluation: 100%|██████████| 111/111 [13:59<00:00,  7.56s/it]\n",
      "/Users/sho108/Desktop/r/work/sho108/neuralhydrology_workflow/runs/spatial_twofold_1_Pra_3001_172823\n",
      "Cached data for test not found or recalculation forced. Generating and saving...\n",
      "# Evaluation: 100%|██████████| 111/111 [10:08<00:00,  5.48s/it]\n",
      "/Users/sho108/Desktop/r/work/sho108/neuralhydrology_workflow/runs/spatial_twofold_1_PrsEas_3001_172823\n",
      "Cached data for test not found or recalculation forced. Generating and saving...\n",
      "# Evaluation: 100%|██████████| 111/111 [06:23<00:00,  3.46s/it]\n",
      "/Users/sho108/Desktop/r/work/sho108/neuralhydrology_workflow/runs/spatial_twofold_1_PrsEts_3001_172823\n",
      "Cached data for test not found or recalculation forced. Generating and saving...\n",
      "# Evaluation: 100%|██████████| 111/111 [05:55<00:00,  3.20s/it]\n",
      "/Users/sho108/Desktop/r/work/sho108/neuralhydrology_workflow/runs/spatial_twofold_0_Prs_3001_172823\n",
      "Cached data for test not found or recalculation forced. Generating and saving...\n",
      "# Evaluation: 100%|██████████| 111/111 [13:47<00:00,  7.46s/it]\n",
      "/Users/sho108/Desktop/r/work/sho108/neuralhydrology_workflow/runs/test_3101_110340\n",
      "Cached data for test not found or recalculation forced. Generating and saving...\n",
      "# Evaluation: 100%|██████████| 222/222 [21:33<00:00,  5.83s/it]\n",
      "/Users/sho108/Desktop/r/work/sho108/neuralhydrology_workflow/runs/test_3101_144329\n",
      "Cached data for test not found or recalculation forced. Generating and saving...\n",
      "# Evaluation: 100%|██████████| 222/222 [24:31<00:00,  6.63s/it]\n"
     ]
    }
   ],
   "source": [
    "# Standard library imports\n",
    "from pathlib import Path\n",
    "\n",
    "from neuralhydrology.nh_run_data_dir import cached_eval_run\n",
    "from helpers import change_directory\n",
    "\n",
    "# Set parameters\n",
    "period = \"test\"\n",
    "base_path = Path('/Users/sho108/Desktop/r/work/sho108/neuralhydrology_workflow')\n",
    "\n",
    "with change_directory(base_path):\n",
    "    for run_dir in base_path.glob('runs/*'):\n",
    "        print(run_dir)\n",
    "        _ = cached_eval_run(\n",
    "                run_dir=run_dir,\n",
    "                period=period,\n",
    "                data_dir='/Users/sho108/Desktop/z/Data/CAMELS_AUS',\n",
    "                \n",
    "            )"
   ]
  },
  {
   "cell_type": "code",
   "execution_count": null,
   "metadata": {},
   "outputs": [],
   "source": []
  }
 ],
 "metadata": {
  "kernelspec": {
   "display_name": ".venv",
   "language": "python",
   "name": "python3"
  },
  "language_info": {
   "codemirror_mode": {
    "name": "ipython",
    "version": 3
   },
   "file_extension": ".py",
   "mimetype": "text/x-python",
   "name": "python",
   "nbconvert_exporter": "python",
   "pygments_lexer": "ipython3",
   "version": "3.10.12"
  },
  "orig_nbformat": 4
 },
 "nbformat": 4,
 "nbformat_minor": 2
}
