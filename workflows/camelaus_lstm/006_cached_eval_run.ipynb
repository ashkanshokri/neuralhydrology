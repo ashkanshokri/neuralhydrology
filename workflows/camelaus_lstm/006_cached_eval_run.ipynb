{
 "cells": [
  {
   "cell_type": "code",
   "execution_count": 2,
   "metadata": {},
   "outputs": [
    {
     "name": "stdout",
     "output_type": "stream",
     "text": [
      "/Users/sho108/Desktop/r/work/sho108/neuralhydrology_workflow/runs/temporal_twofold_0_PrsEts_3001_172823\n"
     ]
    },
    {
     "ename": "TypeError",
     "evalue": "tuple indices must be integers or slices, not PosixPath",
     "output_type": "error",
     "traceback": [
      "\u001b[0;31m---------------------------------------------------------------------------\u001b[0m",
      "\u001b[0;31mTypeError\u001b[0m                                 Traceback (most recent call last)",
      "Cell \u001b[0;32mIn[2], line 14\u001b[0m\n\u001b[1;32m     12\u001b[0m \u001b[39mfor\u001b[39;00m run_dir \u001b[39min\u001b[39;00m base_path\u001b[39m.\u001b[39mglob(\u001b[39m'\u001b[39m\u001b[39mruns/*\u001b[39m\u001b[39m'\u001b[39m):\n\u001b[1;32m     13\u001b[0m     \u001b[39mprint\u001b[39m(run_dir)\n\u001b[0;32m---> 14\u001b[0m     _ \u001b[39m=\u001b[39m cached_eval_run(\n\u001b[1;32m     15\u001b[0m             run_dir\u001b[39m=\u001b[39;49mrun_dir,\n\u001b[1;32m     16\u001b[0m             period\u001b[39m=\u001b[39;49mperiod,\n\u001b[1;32m     17\u001b[0m             data_dir\u001b[39m=\u001b[39;49m\u001b[39m'\u001b[39;49m\u001b[39m/Users/sho108/Desktop/z/Data/CAMELS_AUS\u001b[39;49m\u001b[39m'\u001b[39;49m,\n\u001b[1;32m     18\u001b[0m             recalculate\u001b[39m=\u001b[39;49m\u001b[39mTrue\u001b[39;49;00m\n\u001b[1;32m     19\u001b[0m         )\n",
      "File \u001b[0;32m~/projects/neuralhydrology/neuralhydrology/nh_run_data_dir.py:218\u001b[0m, in \u001b[0;36mcached_eval_run\u001b[0;34m(run_dir, period, recalculate, *args, **kwargs)\u001b[0m\n\u001b[1;32m    198\u001b[0m \u001b[39mdef\u001b[39;00m \u001b[39mcached_eval_run\u001b[39m(run_dir, period, \u001b[39m*\u001b[39margs, recalculate: \u001b[39mbool\u001b[39m \u001b[39m=\u001b[39m \u001b[39mFalse\u001b[39;00m, \u001b[39m*\u001b[39m\u001b[39m*\u001b[39mkwargs) \u001b[39m-\u001b[39m\u001b[39m>\u001b[39m \u001b[39mdict\u001b[39m:\n\u001b[1;32m    199\u001b[0m \u001b[39m    \u001b[39m\u001b[39m\"\"\"\u001b[39;00m\n\u001b[1;32m    200\u001b[0m \u001b[39m    Load cached data or generate and save if not found.\u001b[39;00m\n\u001b[1;32m    201\u001b[0m \n\u001b[0;32m   (...)\u001b[0m\n\u001b[1;32m    216\u001b[0m \u001b[39m        DataFrame containing cached or generated data.\u001b[39;00m\n\u001b[1;32m    217\u001b[0m \u001b[39m    \"\"\"\u001b[39;00m\n\u001b[0;32m--> 218\u001b[0m     postprocess_dir \u001b[39m=\u001b[39m Path(args[run_dir], \u001b[39m\"\u001b[39m\u001b[39mpostprocess\u001b[39m\u001b[39m\"\u001b[39m)\n\u001b[1;32m    219\u001b[0m     postprocess_dir\u001b[39m.\u001b[39mmkdir(exist_ok\u001b[39m=\u001b[39m\u001b[39mTrue\u001b[39;00m, parents\u001b[39m=\u001b[39m\u001b[39mTrue\u001b[39;00m)\n\u001b[1;32m    221\u001b[0m     cache_file \u001b[39m=\u001b[39m postprocess_dir \u001b[39m/\u001b[39m \u001b[39mf\u001b[39m\u001b[39m\"\u001b[39m\u001b[39m{\u001b[39;00mperiod\u001b[39m}\u001b[39;00m\u001b[39m_cached_data.pkl\u001b[39m\u001b[39m\"\u001b[39m\n",
      "\u001b[0;31mTypeError\u001b[0m: tuple indices must be integers or slices, not PosixPath"
     ]
    }
   ],
   "source": [
    "# Standard library imports\n",
    "from pathlib import Path\n",
    "\n",
    "from neuralhydrology.nh_run_data_dir import cached_eval_run\n",
    "from helpers import change_directory\n",
    "\n",
    "# Set parameters\n",
    "period = \"test\"\n",
    "base_path = Path('/Users/sho108/Desktop/r/work/sho108/neuralhydrology_workflow')\n",
    "\n",
    "with change_directory(base_path):\n",
    "    for run_dir in base_path.glob('runs/*'):\n",
    "        print(run_dir)\n",
    "        _ = cached_eval_run(\n",
    "                run_dir=run_dir,\n",
    "                period=period,\n",
    "                data_dir='/Users/sho108/Desktop/z/Data/CAMELS_AUS',\n",
    "                recalculate=True\n",
    "            )"
   ]
  },
  {
   "cell_type": "code",
   "execution_count": null,
   "metadata": {},
   "outputs": [],
   "source": []
  }
 ],
 "metadata": {
  "kernelspec": {
   "display_name": ".venv",
   "language": "python",
   "name": "python3"
  },
  "language_info": {
   "codemirror_mode": {
    "name": "ipython",
    "version": 3
   },
   "file_extension": ".py",
   "mimetype": "text/x-python",
   "name": "python",
   "nbconvert_exporter": "python",
   "pygments_lexer": "ipython3",
   "version": "3.10.12"
  },
  "orig_nbformat": 4
 },
 "nbformat": 4,
 "nbformat_minor": 2
}
