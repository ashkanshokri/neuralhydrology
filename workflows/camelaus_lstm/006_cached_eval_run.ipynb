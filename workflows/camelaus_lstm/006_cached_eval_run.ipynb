{
 "cells": [
  {
   "cell_type": "code",
   "execution_count": 3,
   "metadata": {},
   "outputs": [
    {
     "name": "stdout",
     "output_type": "stream",
     "text": [
      "/Users/sho108/Desktop/r/work/sho108/neuralhydrology_workflow/runs/temporal_twofold_0_PrsEts_3001_172823\n",
      "Cached data for test not found or recalculation forced. Generating and saving...\n"
     ]
    },
    {
     "ename": "FileNotFoundError",
     "evalue": "[Errno 2] No such file or directory: 'basins/basins.txt'",
     "output_type": "error",
     "traceback": [
      "\u001b[0;31m---------------------------------------------------------------------------\u001b[0m",
      "\u001b[0;31mFileNotFoundError\u001b[0m                         Traceback (most recent call last)",
      "Cell \u001b[0;32mIn[3], line 15\u001b[0m\n\u001b[1;32m     13\u001b[0m \u001b[39mfor\u001b[39;00m run_dir \u001b[39min\u001b[39;00m base_path\u001b[39m.\u001b[39mglob(\u001b[39m'\u001b[39m\u001b[39m*\u001b[39m\u001b[39m'\u001b[39m):\n\u001b[1;32m     14\u001b[0m     \u001b[39mprint\u001b[39m(run_dir)\n\u001b[0;32m---> 15\u001b[0m     _ \u001b[39m=\u001b[39m cached_eval_run(\n\u001b[1;32m     16\u001b[0m             run_dir\u001b[39m=\u001b[39;49mrun_dir,\n\u001b[1;32m     17\u001b[0m             period\u001b[39m=\u001b[39;49mperiod,\n\u001b[1;32m     18\u001b[0m             data_dir\u001b[39m=\u001b[39;49m\u001b[39m'\u001b[39;49m\u001b[39m/Users/sho108/Desktop/z/Data/CAMELS_AUS\u001b[39;49m\u001b[39m'\u001b[39;49m,\n\u001b[1;32m     19\u001b[0m             recalculate\u001b[39m=\u001b[39;49m\u001b[39mTrue\u001b[39;49;00m\n\u001b[1;32m     20\u001b[0m         )\n",
      "File \u001b[0;32m~/projects/neuralhydrology/workflows/camelaus_lstm/helpers.py:97\u001b[0m, in \u001b[0;36mcached_eval_run\u001b[0;34m(run_dir, period, data_dir, recalculate)\u001b[0m\n\u001b[1;32m     95\u001b[0m \u001b[39melse\u001b[39;00m:\n\u001b[1;32m     96\u001b[0m     \u001b[39mprint\u001b[39m(\u001b[39mf\u001b[39m\u001b[39m\"\u001b[39m\u001b[39mCached data for \u001b[39m\u001b[39m{\u001b[39;00mperiod\u001b[39m}\u001b[39;00m\u001b[39m not found or recalculation forced. Generating and saving...\u001b[39m\u001b[39m\"\u001b[39m)\n\u001b[0;32m---> 97\u001b[0m     data \u001b[39m=\u001b[39m eval_run(run_dir\u001b[39m=\u001b[39;49mrun_dir, period\u001b[39m=\u001b[39;49mperiod, data_dir\u001b[39m=\u001b[39;49mdata_dir)\n\u001b[1;32m     98\u001b[0m     \u001b[39mwith\u001b[39;00m \u001b[39mopen\u001b[39m(cache_file, \u001b[39m'\u001b[39m\u001b[39mwb\u001b[39m\u001b[39m'\u001b[39m) \u001b[39mas\u001b[39;00m file:\n\u001b[1;32m     99\u001b[0m         pickle\u001b[39m.\u001b[39mdump(data, file)\n",
      "File \u001b[0;32m~/projects/neuralhydrology/neuralhydrology/nh_run_data_dir.py:190\u001b[0m, in \u001b[0;36meval_run\u001b[0;34m(run_dir, period, epoch, gpu, data_dir)\u001b[0m\n\u001b[1;32m    187\u001b[0m \u001b[39mif\u001b[39;00m gpu \u001b[39mis\u001b[39;00m \u001b[39mnot\u001b[39;00m \u001b[39mNone\u001b[39;00m \u001b[39mand\u001b[39;00m gpu \u001b[39m<\u001b[39m \u001b[39m0\u001b[39m:\n\u001b[1;32m    188\u001b[0m     config\u001b[39m.\u001b[39mdevice \u001b[39m=\u001b[39m \u001b[39m\"\u001b[39m\u001b[39mcpu\u001b[39m\u001b[39m\"\u001b[39m\n\u001b[0;32m--> 190\u001b[0m \u001b[39mreturn\u001b[39;00m start_evaluation(cfg\u001b[39m=\u001b[39;49mconfig, run_dir\u001b[39m=\u001b[39;49mrun_dir, epoch\u001b[39m=\u001b[39;49mepoch, period\u001b[39m=\u001b[39;49mperiod)\n",
      "File \u001b[0;32m~/projects/neuralhydrology/neuralhydrology/evaluation/evaluate.py:22\u001b[0m, in \u001b[0;36mstart_evaluation\u001b[0;34m(cfg, run_dir, epoch, period)\u001b[0m\n\u001b[1;32m      7\u001b[0m \u001b[39mdef\u001b[39;00m \u001b[39mstart_evaluation\u001b[39m(cfg: Config, run_dir: Path, epoch: \u001b[39mint\u001b[39m \u001b[39m=\u001b[39m \u001b[39mNone\u001b[39;00m, period: \u001b[39mstr\u001b[39m \u001b[39m=\u001b[39m \u001b[39m\"\u001b[39m\u001b[39mtest\u001b[39m\u001b[39m\"\u001b[39m):\n\u001b[1;32m      8\u001b[0m \u001b[39m    \u001b[39m\u001b[39m\"\"\"Start evaluation of a trained network\u001b[39;00m\n\u001b[1;32m      9\u001b[0m \n\u001b[1;32m     10\u001b[0m \u001b[39m    Parameters\u001b[39;00m\n\u001b[0;32m   (...)\u001b[0m\n\u001b[1;32m     20\u001b[0m \n\u001b[1;32m     21\u001b[0m \u001b[39m    \"\"\"\u001b[39;00m\n\u001b[0;32m---> 22\u001b[0m     tester \u001b[39m=\u001b[39m get_tester(cfg\u001b[39m=\u001b[39;49mcfg, run_dir\u001b[39m=\u001b[39;49mrun_dir, period\u001b[39m=\u001b[39;49mperiod, init_model\u001b[39m=\u001b[39;49m\u001b[39mTrue\u001b[39;49;00m)\n\u001b[1;32m     23\u001b[0m     \u001b[39mreturn\u001b[39;00m tester\u001b[39m.\u001b[39mevaluate(epoch\u001b[39m=\u001b[39mepoch, save_results\u001b[39m=\u001b[39m\u001b[39mTrue\u001b[39;00m, save_all_output\u001b[39m=\u001b[39mcfg\u001b[39m.\u001b[39msave_all_output, metrics\u001b[39m=\u001b[39mcfg\u001b[39m.\u001b[39mmetrics)\n",
      "File \u001b[0;32m~/projects/neuralhydrology/neuralhydrology/evaluation/__init__.py:34\u001b[0m, in \u001b[0;36mget_tester\u001b[0;34m(cfg, run_dir, period, init_model)\u001b[0m\n\u001b[1;32m     32\u001b[0m \u001b[39melse\u001b[39;00m:\n\u001b[1;32m     33\u001b[0m     \u001b[39mNotImplementedError\u001b[39;00m(\u001b[39mf\u001b[39m\u001b[39m\"\u001b[39m\u001b[39mNo evaluation method implemented for \u001b[39m\u001b[39m{\u001b[39;00mcfg\u001b[39m.\u001b[39mhead\u001b[39m}\u001b[39;00m\u001b[39m head\u001b[39m\u001b[39m\"\u001b[39m)\n\u001b[0;32m---> 34\u001b[0m \u001b[39mreturn\u001b[39;00m Tester(cfg\u001b[39m=\u001b[39;49mcfg, run_dir\u001b[39m=\u001b[39;49mrun_dir, period\u001b[39m=\u001b[39;49mperiod, init_model\u001b[39m=\u001b[39;49minit_model)\n",
      "File \u001b[0;32m~/projects/neuralhydrology/neuralhydrology/evaluation/tester.py:508\u001b[0m, in \u001b[0;36mRegressionTester.__init__\u001b[0;34m(self, cfg, run_dir, period, init_model)\u001b[0m\n\u001b[1;32m    507\u001b[0m \u001b[39mdef\u001b[39;00m \u001b[39m__init__\u001b[39m(\u001b[39mself\u001b[39m, cfg: Config, run_dir: Path, period: \u001b[39mstr\u001b[39m \u001b[39m=\u001b[39m \u001b[39m\"\u001b[39m\u001b[39mtest\u001b[39m\u001b[39m\"\u001b[39m, init_model: \u001b[39mbool\u001b[39m \u001b[39m=\u001b[39m \u001b[39mTrue\u001b[39;00m):\n\u001b[0;32m--> 508\u001b[0m     \u001b[39msuper\u001b[39;49m(RegressionTester, \u001b[39mself\u001b[39;49m)\u001b[39m.\u001b[39;49m\u001b[39m__init__\u001b[39;49m(cfg, run_dir, period, init_model)\n",
      "File \u001b[0;32m~/projects/neuralhydrology/neuralhydrology/evaluation/tester.py:81\u001b[0m, in \u001b[0;36mBaseTester.__init__\u001b[0;34m(self, cfg, run_dir, period, init_model)\u001b[0m\n\u001b[1;32m     78\u001b[0m \u001b[39mself\u001b[39m\u001b[39m.\u001b[39mloss_obj \u001b[39m=\u001b[39m get_loss_obj(cfg)\n\u001b[1;32m     79\u001b[0m \u001b[39mself\u001b[39m\u001b[39m.\u001b[39mloss_obj\u001b[39m.\u001b[39mset_regularization_terms(get_regularization_obj(cfg\u001b[39m=\u001b[39m\u001b[39mself\u001b[39m\u001b[39m.\u001b[39mcfg))\n\u001b[0;32m---> 81\u001b[0m \u001b[39mself\u001b[39;49m\u001b[39m.\u001b[39;49m_load_run_data()\n",
      "File \u001b[0;32m~/projects/neuralhydrology/neuralhydrology/evaluation/tester.py:100\u001b[0m, in \u001b[0;36mBaseTester._load_run_data\u001b[0;34m(self)\u001b[0m\n\u001b[1;32m     97\u001b[0m \u001b[39m\u001b[39m\u001b[39m\"\"\"Load run specific data from run directory\"\"\"\u001b[39;00m\n\u001b[1;32m     99\u001b[0m \u001b[39m# get list of basins\u001b[39;00m\n\u001b[0;32m--> 100\u001b[0m \u001b[39mself\u001b[39m\u001b[39m.\u001b[39mbasins \u001b[39m=\u001b[39m load_basin_file(\u001b[39mgetattr\u001b[39;49m(\u001b[39mself\u001b[39;49m\u001b[39m.\u001b[39;49mcfg, \u001b[39mf\u001b[39;49m\u001b[39m\"\u001b[39;49m\u001b[39m{\u001b[39;49;00m\u001b[39mself\u001b[39;49m\u001b[39m.\u001b[39;49mperiod\u001b[39m}\u001b[39;49;00m\u001b[39m_basin_file\u001b[39;49m\u001b[39m\"\u001b[39;49m))\n\u001b[1;32m    102\u001b[0m \u001b[39m# load feature scaler\u001b[39;00m\n\u001b[1;32m    103\u001b[0m \u001b[39mself\u001b[39m\u001b[39m.\u001b[39mscaler \u001b[39m=\u001b[39m load_scaler(\u001b[39mself\u001b[39m\u001b[39m.\u001b[39mcfg\u001b[39m.\u001b[39mrun_dir)\n",
      "File \u001b[0;32m~/projects/neuralhydrology/neuralhydrology/datautils/utils.py:65\u001b[0m, in \u001b[0;36mload_basin_file\u001b[0;34m(basin_file)\u001b[0m\n\u001b[1;32m     45\u001b[0m \u001b[39mdef\u001b[39;00m \u001b[39mload_basin_file\u001b[39m(basin_file: Path) \u001b[39m-\u001b[39m\u001b[39m>\u001b[39m List[\u001b[39mstr\u001b[39m]:\n\u001b[1;32m     46\u001b[0m \u001b[39m    \u001b[39m\u001b[39m\"\"\"Load list of basins from text file.\u001b[39;00m\n\u001b[1;32m     47\u001b[0m \u001b[39m    \u001b[39;00m\n\u001b[1;32m     48\u001b[0m \u001b[39m    Note: Basins names are not allowed to end with '_period*'\u001b[39;00m\n\u001b[0;32m   (...)\u001b[0m\n\u001b[1;32m     63\u001b[0m \u001b[39m        In case of invalid basin names that would cause problems internally.\u001b[39;00m\n\u001b[1;32m     64\u001b[0m \u001b[39m    \"\"\"\u001b[39;00m\n\u001b[0;32m---> 65\u001b[0m     \u001b[39mwith\u001b[39;00m basin_file\u001b[39m.\u001b[39;49mopen(\u001b[39m'\u001b[39;49m\u001b[39mr\u001b[39;49m\u001b[39m'\u001b[39;49m) \u001b[39mas\u001b[39;00m fp:\n\u001b[1;32m     66\u001b[0m         basins \u001b[39m=\u001b[39m \u001b[39msorted\u001b[39m(basin\u001b[39m.\u001b[39mstrip() \u001b[39mfor\u001b[39;00m basin \u001b[39min\u001b[39;00m fp \u001b[39mif\u001b[39;00m basin\u001b[39m.\u001b[39mstrip())\n\u001b[1;32m     68\u001b[0m     \u001b[39m# sanity check basin names\u001b[39;00m\n",
      "File \u001b[0;32m~/.pyenv/versions/3.10.12/lib/python3.10/pathlib.py:1119\u001b[0m, in \u001b[0;36mPath.open\u001b[0;34m(self, mode, buffering, encoding, errors, newline)\u001b[0m\n\u001b[1;32m   1117\u001b[0m \u001b[39mif\u001b[39;00m \u001b[39m\"\u001b[39m\u001b[39mb\u001b[39m\u001b[39m\"\u001b[39m \u001b[39mnot\u001b[39;00m \u001b[39min\u001b[39;00m mode:\n\u001b[1;32m   1118\u001b[0m     encoding \u001b[39m=\u001b[39m io\u001b[39m.\u001b[39mtext_encoding(encoding)\n\u001b[0;32m-> 1119\u001b[0m \u001b[39mreturn\u001b[39;00m \u001b[39mself\u001b[39;49m\u001b[39m.\u001b[39;49m_accessor\u001b[39m.\u001b[39;49mopen(\u001b[39mself\u001b[39;49m, mode, buffering, encoding, errors,\n\u001b[1;32m   1120\u001b[0m                            newline)\n",
      "\u001b[0;31mFileNotFoundError\u001b[0m: [Errno 2] No such file or directory: 'basins/basins.txt'"
     ]
    }
   ],
   "source": [
    "# Standard library imports\n",
    "from pathlib import Path\n",
    "\n",
    "from helpers import cached_eval_run, change_directory\n",
    "\n",
    "# Set parameters\n",
    "predictors = 'pe'\n",
    "period = \"test\"\n",
    "folds = [0, 1]\n",
    "\n",
    "\n",
    "\n",
    "base_path = Path('/Users/sho108/Desktop/r/work/sho108/neuralhydrology_workflow/runs')\n",
    "\n",
    "\n",
    "with change_directory(base_path):\n",
    "    for run_dir in base_path.glob('*'):\n",
    "        print(run_dir)\n",
    "        _ = cached_eval_run(\n",
    "                run_dir=run_dir,\n",
    "                period=period,\n",
    "                data_dir='/Users/sho108/Desktop/z/Data/CAMELS_AUS',\n",
    "                recalculate=True\n",
    "            )"
   ]
  },
  {
   "cell_type": "code",
   "execution_count": 4,
   "metadata": {},
   "outputs": [
    {
     "data": {
      "text/plain": [
       "'.'"
      ]
     },
     "execution_count": 4,
     "metadata": {},
     "output_type": "execute_result"
    }
   ],
   "source": [
    "import os\n",
    "os.curdir"
   ]
  }
 ],
 "metadata": {
  "kernelspec": {
   "display_name": ".venv",
   "language": "python",
   "name": "python3"
  },
  "language_info": {
   "codemirror_mode": {
    "name": "ipython",
    "version": 3
   },
   "file_extension": ".py",
   "mimetype": "text/x-python",
   "name": "python",
   "nbconvert_exporter": "python",
   "pygments_lexer": "ipython3",
   "version": "3.10.12"
  },
  "orig_nbformat": 4
 },
 "nbformat": 4,
 "nbformat_minor": 2
}
