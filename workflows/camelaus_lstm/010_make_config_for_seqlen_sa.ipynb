{
 "cells": [
  {
   "cell_type": "code",
   "execution_count": 1,
   "metadata": {},
   "outputs": [],
   "source": [
    "# common_functions.py\n",
    "from pathlib import Path\n",
    "from helpers import generate_configs\n",
    "\n",
    "\n",
    "# common configs\n",
    "base_path = Path('/Users/sho108/Desktop/r/work/sho108/neuralhydrology_workflow/configs/seqlen_sa2')\n",
    "config_file = Path('config.yml')\n",
    "\n",
    "\n",
    "\n",
    "for seq_length in [2, 3, 4, 5, 10, 20, 30, 40, 50, 100, 150, 200, 300, 365, 365*2]:\n",
    "    other_configs = {'seq_length': seq_length}\n",
    "    # Temporal\n",
    "    date_ranges = {\n",
    "        'train': {0: (\"01/01/1981\", \"31/12/1997\"), 1: (\"01/01/2000\", \"31/12/2014\")},\n",
    "        'validation': {0: (\"01/01/2000\", \"31/12/2014\"), 1: (\"01/01/1981\", \"31/12/1997\")},\n",
    "        'test': {0: (\"01/01/2000\", \"31/12/2014\"), 1: (\"01/01/1981\", \"31/12/1997\")},\n",
    "    }\n",
    "\n",
    "    basin_files = {'train' : {fold: f'basins/basins.txt' for fold in [0,1]},\n",
    "    'validation' : {fold: f'basins/basins.txt' for fold in [0,1]},\n",
    "    'test' : {fold: f'basins/basins.txt' for fold in [0,1]}}\n",
    "\n",
    "    static_attributes = ['PmePetBasHpdLpdKsa',]\n",
    "    dinamic_attributes = ['PraEts']\n",
    "                        \n",
    "    generate_configs(config_file,\n",
    "                    static_attributes,\n",
    "                    dinamic_attributes,\n",
    "                    output_dir = base_path / 'temporal_split/twofold',\n",
    "                    date_ranges=date_ranges,\n",
    "                    basin_files=basin_files,\n",
    "                    prefix=f'seq_length_{seq_length}_temporal_twofold', other_configs=other_configs)\n",
    "\n",
    "\n",
    "    # Spatial\n",
    "    # This cell contains the main script for generating spatial split configurations in neural hydrology experiments.\n",
    "\n",
    "    basin_files = {'train' : {fold: f'basins/twofoldsplit/fold_{fold}_train.txt' for fold in [0,1]},\n",
    "    'validation' : {fold: f'basins/twofoldsplit/fold_{fold}_test.txt' for fold in [0,1]},\n",
    "    'test' : {fold: f'basins/twofoldsplit/fold_{fold}_test.txt' for fold in [0,1]}}\n",
    "\n",
    "    generate_configs(config_file,\n",
    "                    static_attributes,\n",
    "                    dinamic_attributes,\n",
    "                    output_dir = base_path / 'spatial_split/twofold',\n",
    "                    basin_files=basin_files,\n",
    "                    prefix=f'seq_length_{seq_length}_spatial_twofold', other_configs=other_configs)"
   ]
  },
  {
   "cell_type": "code",
   "execution_count": null,
   "metadata": {},
   "outputs": [],
   "source": []
  }
 ],
 "metadata": {
  "kernelspec": {
   "display_name": ".venv",
   "language": "python",
   "name": "python3"
  },
  "language_info": {
   "codemirror_mode": {
    "name": "ipython",
    "version": 3
   },
   "file_extension": ".py",
   "mimetype": "text/x-python",
   "name": "python",
   "nbconvert_exporter": "python",
   "pygments_lexer": "ipython3",
   "version": "3.10.12"
  },
  "orig_nbformat": 4
 },
 "nbformat": 4,
 "nbformat_minor": 2
}
