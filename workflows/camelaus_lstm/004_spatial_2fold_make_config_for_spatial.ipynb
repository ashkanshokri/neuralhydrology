{
 "cells": [
  {
   "cell_type": "code",
   "execution_count": 2,
   "metadata": {},
   "outputs": [],
   "source": [
    "import re\n",
    "from pathlib import Path\n",
    "from typing import Dict\n",
    "\n",
    "from neuralhydrology.utils.config import Config\n",
    "\n",
    "\n",
    "class PredictorNotFoundError(Exception):\n",
    "    pass\n",
    "\n",
    "from helpers import get_predictor_list, get_static_attr_list\n",
    "\n",
    "\n",
    "\n",
    "bp = Path('/Users/sho108/Desktop/r/work/sho108/neuralhydrology_workflow')\n",
    "od = bp / 'configs/spatial_split/twofold'\n",
    "od.mkdir(exist_ok=True, parents=True)\n",
    "config_file = Path('config.yml')\n",
    "\n",
    "important_attributes = [\n",
    "    'Are',  # Catchment Area\n",
    "    'Pme',  # Precipitation Mean\n",
    "    'Pet',  # PET Mean\n",
    "    'Run',  # Runoff Ratio\n",
    "    'Slo',  # Slope FDC\n",
    "    'Str',  # Stream Elasticity\n",
    "    'Bas',  # Baseflow Index\n",
    "    'Hpf',  # High Precipitation Frequency\n",
    "    'Hpd',  # High Precipitation Duration\n",
    "    'Lpf',  # Low Precipitation Frequency\n",
    "    'Lpd',  # Low Precipitation Duration\n",
    "    'Mea'   # Mean Slope Percentage\n",
    "]\n",
    "\n",
    "\n",
    "\n",
    "for static_attrs in [''] + important_attributes:\n",
    "    for predictors in ['Pra', 'Prs', 'PrsEts', 'PrsEas', 'PraEts']:\n",
    "        for fold in [0, 1]:\n",
    "            cfg = Config(config_file)\n",
    "            cfg.update_config({\n",
    "                'dynamic_inputs': get_predictor_list(predictors),\n",
    "                'train_basin_file': f'basins/twofoldsplit/fold_{fold}_train.txt',\n",
    "                'test_basin_file': f'basins/twofoldsplit/fold_{fold}_test.txt',\n",
    "                'validation_basin_file': f'basins/twofoldsplit/fold_{fold}_test.txt',\n",
    "                'static_attributes':get_static_attr_list(static_attrs),\n",
    "                'experiment_name': f'spatial_twofold_{fold}_{predictors}_{static_attrs}',            \n",
    "            })\n",
    "\n",
    "\n",
    "            # Start training\n",
    "            cfg.dump_config(od, cfg.experiment_name+'.yml')"
   ]
  },
  {
   "cell_type": "code",
   "execution_count": 1,
   "metadata": {},
   "outputs": [
    {
     "data": {
      "text/plain": [
       "[]"
      ]
     },
     "execution_count": 1,
     "metadata": {},
     "output_type": "execute_result"
    }
   ],
   "source": [
    "\n",
    "from helpers import get_predictor_list\n",
    "\n",
    "get_predictor_list('')"
   ]
  }
 ],
 "metadata": {
  "kernelspec": {
   "display_name": ".venv",
   "language": "python",
   "name": "python3"
  },
  "language_info": {
   "codemirror_mode": {
    "name": "ipython",
    "version": 3
   },
   "file_extension": ".py",
   "mimetype": "text/x-python",
   "name": "python",
   "nbconvert_exporter": "python",
   "pygments_lexer": "ipython3",
   "version": "3.10.12"
  },
  "orig_nbformat": 4
 },
 "nbformat": 4,
 "nbformat_minor": 2
}
