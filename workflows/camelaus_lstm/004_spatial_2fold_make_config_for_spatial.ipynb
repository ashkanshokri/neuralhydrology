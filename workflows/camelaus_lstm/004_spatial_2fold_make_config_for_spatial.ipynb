{
 "cells": [
  {
   "cell_type": "code",
   "execution_count": 1,
   "metadata": {},
   "outputs": [],
   "source": [
    "import re\n",
    "from pathlib import Path\n",
    "from typing import Dict\n",
    "\n",
    "from neuralhydrology.utils.config import Config\n",
    "\n",
    "\n",
    "class PredictorNotFoundError(Exception):\n",
    "    pass\n",
    "\n",
    "from helpers import get_predictor_list\n",
    "\n",
    "\n",
    "bp = Path('/Users/sho108/Desktop/r/work/sho108/neuralhydrology_workflow')\n",
    "od = bp / 'configs/spatial_split/twofold'\n",
    "od.mkdir(exist_ok=True, parents=True)\n",
    "config_file = Path('config.yml')\n",
    "for predictors in ['Pra', 'Prs', 'PrsEts', 'PrsEas']:\n",
    "    for fold in [0, 1]:\n",
    "        cfg = Config(config_file)\n",
    "        cfg.update_config({\n",
    "            'dynamic_inputs': get_predictor_list(predictors),\n",
    "            'train_basin_file': f'basins/twofoldsplit/fold_{fold}_train.txt',\n",
    "            'test_basin_file': f'basins/twofoldsplit/fold_{fold}_test.txt',\n",
    "            'validation_basin_file': f'basins/twofoldsplit/fold_{fold}_test.txt',\n",
    "            #'static_attributes'\n",
    "            'experiment_name': f'spatial_twofold_{fold}_{predictors}',            \n",
    "        })\n",
    "\n",
    "\n",
    "        # Start training\n",
    "        cfg.dump_config(od, cfg.experiment_name+'.yml')"
   ]
  },
  {
   "cell_type": "code",
   "execution_count": null,
   "metadata": {},
   "outputs": [],
   "source": []
  }
 ],
 "metadata": {
  "kernelspec": {
   "display_name": ".venv",
   "language": "python",
   "name": "python3"
  },
  "language_info": {
   "codemirror_mode": {
    "name": "ipython",
    "version": 3
   },
   "file_extension": ".py",
   "mimetype": "text/x-python",
   "name": "python",
   "nbconvert_exporter": "python",
   "pygments_lexer": "ipython3",
   "version": "3.10.12"
  },
  "orig_nbformat": 4
 },
 "nbformat": 4,
 "nbformat_minor": 2
}
