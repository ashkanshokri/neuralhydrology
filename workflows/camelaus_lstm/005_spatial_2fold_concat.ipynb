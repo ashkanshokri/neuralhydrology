{
 "cells": [
  {
   "cell_type": "code",
   "execution_count": 1,
   "metadata": {},
   "outputs": [],
   "source": [
    "%load_ext autoreload\n",
    "%autoreload 2"
   ]
  },
  {
   "cell_type": "code",
   "execution_count": 66,
   "metadata": {},
   "outputs": [],
   "source": [
    "# Standard library imports\n",
    "from typing import Union, Optional, Dict, Tuple\n",
    "from pathlib import Path\n",
    "import pickle\n",
    "import pandas as pd\n",
    "import xarray as xr\n",
    "from helpers import cached_eval_run\n",
    "\n",
    "\n",
    "def combine_datasets(results: Dict[int, Dict[str, Dict[str, Union[str, pd.DataFrame]]]]) -> pd.DataFrame:\n",
    "    \"\"\"\n",
    "    Combine datasets from multiple folds.\n",
    "\n",
    "    Parameters\n",
    "    ----------\n",
    "    results : Dict[int, Dict[str, Dict[str, Union[str, pd.DataFrame]]]]\n",
    "        Dictionary containing results for different folds.\n",
    "\n",
    "    Returns\n",
    "    -------\n",
    "    pd.DataFrame\n",
    "        Combined DataFrame.\n",
    "    \"\"\"\n",
    "\n",
    "    folds = results.keys()\n",
    "    for fold in folds:\n",
    "        for k,v in results[fold].items():\n",
    "            basins.append(k)\n",
    "            data_values.append(v['1D']['xr'])\n",
    "\n",
    "    basins = [basin for fold in results.values() for basin in fold]\n",
    "    data_values = [entry['1D']['xr'] for fold in results.values() for entry in fold.values()]\n",
    "    combined_dataset = xr.concat(data_values, dim='basin').assign_coords(basin=basins)\n",
    "    return combined_dataset.to_dataframe()\n",
    "\n",
    "def create_pivot_tables(df: pd.DataFrame) -> Tuple[pd.DataFrame, pd.DataFrame]:\n",
    "    \"\"\"\n",
    "    Create pivot tables for simulated and observed streamflow.\n",
    "\n",
    "    Parameters\n",
    "    ----------\n",
    "    df : pd.DataFrame\n",
    "        DataFrame containing the streamflow data.\n",
    "\n",
    "    Returns\n",
    "    -------\n",
    "    Tuple[pd.DataFrame, pd.DataFrame]\n",
    "        Tuple containing pivot tables for simulated and observed streamflow.\n",
    "    \"\"\"\n",
    "    pivot_table_simulated = df.pivot_table(values='streamflow_mmd_sim', index='date', columns='basin')\n",
    "    pivot_table_observed = df.pivot_table(values='streamflow_mmd_obs', index='date', columns='basin')\n",
    "    return pivot_table_simulated, pivot_table_observed\n"
   ]
  },
  {
   "cell_type": "code",
   "execution_count": 67,
   "metadata": {},
   "outputs": [
    {
     "name": "stdout",
     "output_type": "stream",
     "text": [
      "Cached data for test not found or recalculation forced. Generating and saving...\n",
      "# Evaluation: 100%|██████████| 111/111 [10:05<00:00,  5.45s/it]\n",
      "Cached data for test not found or recalculation forced. Generating and saving...\n",
      "# Evaluation: 100%|██████████| 111/111 [10:08<00:00,  5.48s/it]\n"
     ]
    },
    {
     "ename": "UnboundLocalError",
     "evalue": "local variable 'basins' referenced before assignment",
     "output_type": "error",
     "traceback": [
      "\u001b[0;31m---------------------------------------------------------------------------\u001b[0m",
      "\u001b[0;31mUnboundLocalError\u001b[0m                         Traceback (most recent call last)",
      "Cell \u001b[0;32mIn[67], line 19\u001b[0m\n\u001b[1;32m      7\u001b[0m result \u001b[39m=\u001b[39m {\n\u001b[1;32m      8\u001b[0m     fold: cached_eval_run(\n\u001b[1;32m      9\u001b[0m         run_dir\u001b[39m=\u001b[39mbase_path\u001b[39m/\u001b[39m\u001b[39mf\u001b[39m\u001b[39m'\u001b[39m\u001b[39mspatial_twofold_\u001b[39m\u001b[39m{\u001b[39;00mfold\u001b[39m}\u001b[39;00m\u001b[39m_\u001b[39m\u001b[39m{\u001b[39;00mpredictors\u001b[39m}\u001b[39;00m\u001b[39m_2501_181026\u001b[39m\u001b[39m'\u001b[39m,\n\u001b[0;32m   (...)\u001b[0m\n\u001b[1;32m     14\u001b[0m     \u001b[39mfor\u001b[39;00m fold \u001b[39min\u001b[39;00m folds\n\u001b[1;32m     15\u001b[0m }\n\u001b[1;32m     18\u001b[0m \u001b[39m# Extract basins and corresponding data values from the result dictionary\u001b[39;00m\n\u001b[0;32m---> 19\u001b[0m df \u001b[39m=\u001b[39m combine_datasets(result)\n\u001b[1;32m     21\u001b[0m \u001b[39m# Create pivot tables for simulated and observed streamflow\u001b[39;00m\n\u001b[1;32m     22\u001b[0m df_sim, df_obs \u001b[39m=\u001b[39m create_pivot_tables(df)\n",
      "Cell \u001b[0;32mIn[66], line 67\u001b[0m, in \u001b[0;36mcombine_datasets\u001b[0;34m(results)\u001b[0m\n\u001b[1;32m     65\u001b[0m \u001b[39mfor\u001b[39;00m fold \u001b[39min\u001b[39;00m folds:\n\u001b[1;32m     66\u001b[0m     \u001b[39mfor\u001b[39;00m k,v \u001b[39min\u001b[39;00m results[fold]\u001b[39m.\u001b[39mitems():\n\u001b[0;32m---> 67\u001b[0m         basins\u001b[39m.\u001b[39mappend(k)\n\u001b[1;32m     68\u001b[0m         data_values\u001b[39m.\u001b[39mappend(v[\u001b[39m'\u001b[39m\u001b[39m1D\u001b[39m\u001b[39m'\u001b[39m][\u001b[39m'\u001b[39m\u001b[39mxr\u001b[39m\u001b[39m'\u001b[39m])\n\u001b[1;32m     70\u001b[0m basins \u001b[39m=\u001b[39m [basin \u001b[39mfor\u001b[39;00m fold \u001b[39min\u001b[39;00m results\u001b[39m.\u001b[39mvalues() \u001b[39mfor\u001b[39;00m basin \u001b[39min\u001b[39;00m fold]\n",
      "\u001b[0;31mUnboundLocalError\u001b[0m: local variable 'basins' referenced before assignment"
     ]
    }
   ],
   "source": [
    "# Set parameters\n",
    "predictors = 'pe'\n",
    "period = \"test\"\n",
    "folds = [0, 1]\n",
    "\n",
    "base_path = Path('/Users/sho108/Desktop/r/work/sho108/neuralhydrology_workflow/runs')\n",
    "\n",
    "result = {\n",
    "    fold: cached_eval_run(\n",
    "        run_dir=base_path/f'spatial_twofold_{fold}_{predictors}_2501_181026',\n",
    "        period=period,\n",
    "        data_dir='/Users/sho108/Desktop/z/Data/CAMELS_AUS',\n",
    "        recalculate=True\n",
    "    )\n",
    "    for fold in folds\n",
    "}\n",
    "\n",
    "\n",
    "# Extract basins and corresponding data values from the result dictionary\n",
    "df = combine_datasets(result)\n",
    "\n",
    "# Create pivot tables for simulated and observed streamflow\n",
    "df_sim, df_obs = create_pivot_tables(df)"
   ]
  },
  {
   "cell_type": "code",
   "execution_count": null,
   "metadata": {},
   "outputs": [],
   "source": [
    "/datasets/work/d61-coastal-forecasting-wp3/work/sho108/neuralhydrology/workflows/camelaus_lstm/runs/spatial_twofold_0_e_2501_181026/train_data\n",
    "/Users/sho108/projects/neuralhydrology/workflows/camelaus_lstm/petrichore/runs/spatial_twofold_0_e_2501_181026/train_data"
   ]
  }
 ],
 "metadata": {
  "kernelspec": {
   "display_name": ".venv",
   "language": "python",
   "name": "python3"
  },
  "language_info": {
   "codemirror_mode": {
    "name": "ipython",
    "version": 3
   },
   "file_extension": ".py",
   "mimetype": "text/x-python",
   "name": "python",
   "nbconvert_exporter": "python",
   "pygments_lexer": "ipython3",
   "version": "3.10.12"
  },
  "orig_nbformat": 4
 },
 "nbformat": 4,
 "nbformat_minor": 2
}
